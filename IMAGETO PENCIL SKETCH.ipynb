{
 "cells": [
  {
   "cell_type": "code",
   "execution_count": 1,
   "id": "ea4df119-ae43-48fb-9b87-032c9b2e3945",
   "metadata": {},
   "outputs": [
    {
     "name": "stdout",
     "output_type": "stream",
     "text": [
      "Requirement already satisfied: opencv-python in c:\\users\\hp\\anaconda3\\lib\\site-packages (4.12.0.88)\n",
      "Requirement already satisfied: numpy<2.3.0,>=2 in c:\\users\\hp\\anaconda3\\lib\\site-packages (from opencv-python) (2.2.6)\n",
      "Note: you may need to restart the kernel to use updated packages.\n"
     ]
    }
   ],
   "source": [
    "pip install opencv-python\n"
   ]
  },
  {
   "cell_type": "code",
   "execution_count": 3,
   "id": "5006b542-f464-41a8-bee0-72dc842fd06a",
   "metadata": {},
   "outputs": [],
   "source": [
    "import cv2\n",
    "\n",
    "image = cv2.imread(\"MY PASSPORT PHOTO.jpg\")  # Replace with your image file name\n",
    "cv2.imshow(\"Original Image\", image)\n"
   ]
  },
  {
   "cell_type": "code",
   "execution_count": 5,
   "id": "f2bebc66-2257-4210-8500-25b5a0086492",
   "metadata": {},
   "outputs": [],
   "source": [
    "gray_image = cv2.cvtColor(image, cv2.COLOR_BGR2GRAY)\n"
   ]
  },
  {
   "cell_type": "code",
   "execution_count": 7,
   "id": "19f57efa-a9b8-4678-967f-510ede931c9b",
   "metadata": {},
   "outputs": [],
   "source": [
    "inverted_gray = 255 - gray_image\n"
   ]
  },
  {
   "cell_type": "code",
   "execution_count": 9,
   "id": "ec0d9023-2453-4100-bc4e-86675af42e25",
   "metadata": {},
   "outputs": [],
   "source": [
    "blurred = cv2.GaussianBlur(inverted_gray, (21, 21), sigmaX=0, sigmaY=0)\n"
   ]
  },
  {
   "cell_type": "code",
   "execution_count": 11,
   "id": "083c58bc-01fb-4848-8b39-84413412d245",
   "metadata": {},
   "outputs": [],
   "source": [
    "inverted_blur = 255 - blurred\n"
   ]
  },
  {
   "cell_type": "code",
   "execution_count": 13,
   "id": "fcb19aee-9a08-451d-afdc-9f2c2ae0cd53",
   "metadata": {},
   "outputs": [],
   "source": [
    "sketch = cv2.divide(gray_image, inverted_blur, scale=256.0)\n"
   ]
  },
  {
   "cell_type": "code",
   "execution_count": null,
   "id": "39a1c03e-d1d6-45b0-9cba-76ea284cf103",
   "metadata": {},
   "outputs": [],
   "source": [
    "cv2.imshow(\"Pencil Sketch\", sketch)\n",
    "cv2.imwrite(\"pencil_sketch.jpg\", sketch)\n",
    "cv2.waitKey(0)\n",
    "cv2.destroyAllWindows()\n"
   ]
  },
  {
   "cell_type": "code",
   "execution_count": null,
   "id": "cbc79486-d687-4f25-86fd-d8d58a1aa6b9",
   "metadata": {},
   "outputs": [],
   "source": []
  }
 ],
 "metadata": {
  "kernelspec": {
   "display_name": "Python 3 (ipykernel)",
   "language": "python",
   "name": "python3"
  },
  "language_info": {
   "codemirror_mode": {
    "name": "ipython",
    "version": 3
   },
   "file_extension": ".py",
   "mimetype": "text/x-python",
   "name": "python",
   "nbconvert_exporter": "python",
   "pygments_lexer": "ipython3",
   "version": "3.12.7"
  }
 },
 "nbformat": 4,
 "nbformat_minor": 5
}
